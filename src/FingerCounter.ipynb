{
  "cells": [
    {
      "cell_type": "markdown",
      "source": [
        "#1-Finger Counter"
      ],
      "metadata": {
        "id": "590Wf0A6d8BN"
      }
    },
    {
      "cell_type": "code",
      "source": [
        "import mediapipe as mp\n",
        "import cv2\n",
        "import time\n",
        "import numpy as np\n",
        "import serial\n",
        "\n",
        "\n",
        "ser = serial.Serial('COM7', 115200)\n",
        "\n",
        "mpHands = mp.solutions.hands\n",
        "mpDraw = mp.solutions.drawing_utils\n",
        "\n",
        "\n",
        "webcam = cv2.VideoCapture()\n",
        "webcam.open(0,cv2.CAP_DSHOW)\n",
        "handsLM = mpHands.Hands(max_num_hands=2,min_detection_confidence=0.8,min_tracking_confidence=0.8)\n",
        "\n",
        "status , frame = webcam.read()\n",
        "imgH,imgW,imgC = frame.shape\n",
        "\n",
        "\n",
        "\n",
        "tipIds=[4,8,12,16,20]\n",
        "\n",
        "fps = 0\n",
        "lastTotalFinger = -1\n",
        "sekali = True\n",
        "while True:\n",
        "    status , frame = webcam.read()\n",
        "\n",
        "    start = time.time()\n",
        "\n",
        "    frame = cv2.flip(frame,1)\n",
        "    frame2 = cv2.cvtColor(frame,cv2.COLOR_BGR2RGB)\n",
        "\n",
        "    pr = handsLM.process(frame2)\n",
        "    if pr.multi_hand_landmarks:    \n",
        "        fingers=[]\n",
        "        sekali = True\n",
        "        for hand_landmarks in pr.multi_hand_landmarks:        \n",
        "            hand = hand_landmarks\n",
        "            mpDraw.draw_landmarks(frame,hand,mpHands.HAND_CONNECTIONS)\n",
        "            landMarkList = []\n",
        "            for id,landMark in enumerate(hand.landmark):\n",
        "                xPos,yPos,zPos = int(landMark.x*imgW),int(landMark.y*imgH),int(landMark.z*imgW)\n",
        "                landMarkList.append([id,xPos,yPos])    \n",
        "            #Righ Hand\n",
        "            if landMarkList[4][1] < landMarkList[17][1]:\n",
        "                if landMarkList[tipIds[0]][1] < landMarkList[tipIds[0]-1][1]:\n",
        "                    fingers.append(1)\n",
        "                else:\n",
        "                    fingers.append(0)\n",
        "            #Left Hand\n",
        "            else:\n",
        "                if landMarkList[tipIds[0]][1] > landMarkList[tipIds[0]-1][1]:\n",
        "                    fingers.append(1)\n",
        "                else:\n",
        "                    fingers.append(0)\n",
        "            for id in range(1,5):\n",
        "                if landMarkList[tipIds[id]][2] < landMarkList[tipIds[id]-2][2]:\n",
        "                    fingers.append(1)\n",
        "                else:\n",
        "                    fingers.append(0)\n",
        "        totalFinger = fingers.count(1) \n",
        "        if totalFinger != lastTotalFinger:\n",
        "            lastTotalFinger = totalFinger\n",
        "            if 0 < totalFinger < 10:\n",
        "                ser.write(str(totalFinger).encode())\n",
        "            else:\n",
        "                ser.write(b'-')\n",
        "    elif sekali:\n",
        "       sekali = False\n",
        "       lastTotalFinger = -1\n",
        "       ser.write(b'-')\n",
        "    end = time.time()\n",
        "    totalTime = end - start\n",
        "    if totalTime != 0 :\n",
        "        fps = 1 / totalTime\n",
        "    cv2.putText(frame, f'FPS: {int(fps)}', (20,30), cv2.FONT_HERSHEY_SIMPLEX, 1.0, (255,0,255), 2)\n",
        "    \n",
        "    cv2.imshow(\"Finger Counter\",frame)\n",
        "    if cv2.waitKey(1) == ord('q'):\n",
        "        break\n",
        "cv2.destroyAllWindows()\n",
        "webcam.release()\n"
      ],
      "metadata": {
        "id": "nsh-1Yqls0nE"
      },
      "execution_count": null,
      "outputs": []
    }
  ],
  "metadata": {
    "colab": {
      "collapsed_sections": [],
      "name": "1_FingerCounter.ipynb",
      "provenance": [],
      "toc_visible": true
    },
    "kernelspec": {
      "display_name": "Python 3",
      "name": "python3"
    },
    "language_info": {
      "name": "python"
    }
  },
  "nbformat": 4,
  "nbformat_minor": 0
}